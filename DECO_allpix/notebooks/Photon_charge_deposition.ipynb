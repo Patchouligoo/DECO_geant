{
 "cells": [
  {
   "cell_type": "code",
   "execution_count": 55,
   "metadata": {
    "collapsed": true
   },
   "outputs": [],
   "source": [
    "import numpy as np\n",
    "import matplotlib.pyplot as plt\n",
    "from scipy.interpolate import interp1d\n",
    "from glob import glob as glob\n",
    "\n",
    "%matplotlib inline\n",
    "\n",
    "import matplotlib as mpl\n",
    "mpl.rcParams['text.usetex'] = True\n",
    "mpl.rcParams['text.latex.unicode'] = True\n",
    "mpl.rcParams['mathtext.rm'] = 'Times New Roman'\n",
    "mpl.rcParams['mathtext.it'] = 'Times New Roman:italic'\n",
    "mpl.rcParams['mathtext.bf'] = 'Times New Roman:bold'\n",
    "\n",
    "mpl.rc('font', family='serif', size=22)\n",
    "mpl.rcParams['xtick.labelsize'] = 20\n",
    "mpl.rcParams['ytick.labelsize'] = 20\n",
    "mpl.rcParams['xtick.major.size'] = 8\n",
    "mpl.rcParams['ytick.major.size'] = 8"
   ]
  },
  {
   "cell_type": "code",
   "execution_count": 51,
   "metadata": {},
   "outputs": [],
   "source": [
    "text_file = open(\"/Users/APizzuto/Desktop/DECO_geant/DECO_allpix/source_shielding/output/gamma/100MeV_theta_60_phi_0.txt\", \"r\")\n",
    "\n",
    "lines = text_file.readlines()\n",
    "hits = []\n",
    "for line in lines:\n",
    "    if line.startswith('==='):\n",
    "        continue\n",
    "    if line.startswith('---'):\n",
    "        hits.append([])\n",
    "    if line.startswith('PixelHit'):\n",
    "        line = line.rstrip().split()\n",
    "        line = line[1:]\n",
    "        for i in range(len(line)):\n",
    "            line[i] = line[i].replace(',', '')\n",
    "            line[i] = float(line[i])\n",
    "        hits[-1].append(line)\n",
    "xhits, yhits, charge = [], [], []\n",
    "for i in range(len(hits)):\n",
    "    hits[i] = zip(*hits[i])\n",
    "    xhits.append(hits[i][0])\n",
    "    yhits.append(hits[i][1])\n",
    "    charge.append(hits[i][2])"
   ]
  },
  {
   "cell_type": "code",
   "execution_count": 56,
   "metadata": {
    "collapsed": true
   },
   "outputs": [],
   "source": [
    "def read_hit_file(filename):\n",
    "    text_file = open(filename, 'r')\n",
    "    \n",
    "    lines = text_file.readlines()\n",
    "    hits = []\n",
    "    for line in lines:\n",
    "        if line.startswith('==='):\n",
    "            continue\n",
    "        if line.startswith('---'):\n",
    "            hits.append([])\n",
    "        if line.startswith('PixelHit'):\n",
    "            line = line.rstrip().split()\n",
    "            line = line[1:]\n",
    "            for i in range(len(line)):\n",
    "                line[i] = line[i].replace(',', '')\n",
    "                line[i] = float(line[i])\n",
    "            hits[-1].append(line)\n",
    "    xhits, yhits, charge = [], [], []\n",
    "    for i in range(len(hits)):\n",
    "        hits[i] = zip(*hits[i])\n",
    "        xhits.append(hits[i][0])\n",
    "        yhits.append(hits[i][1])\n",
    "        charge.append(hits[i][2])\n",
    "    return xhits, yhits, charge"
   ]
  },
  {
   "cell_type": "code",
   "execution_count": 64,
   "metadata": {
    "collapsed": true
   },
   "outputs": [],
   "source": [
    "x, y, c = read_hit_file(\"/Users/APizzuto/Desktop/DECO_geant/DECO_allpix/source_shielding/output/gamma/10MeV_theta_60_phi_0.txt\")"
   ]
  },
  {
   "cell_type": "code",
   "execution_count": 67,
   "metadata": {},
   "outputs": [
    {
     "data": {
      "text/plain": [
       "<matplotlib.collections.PathCollection at 0x1175f9450>"
      ]
     },
     "execution_count": 67,
     "metadata": {},
     "output_type": "execute_result"
    },
    {
     "data": {
      "image/png": "[encoded data removed]",
      "text/plain": [
       "<matplotlib.figure.Figure at 0x117408d90>"
      ]
     },
     "metadata": {},
     "output_type": "display_data"
    }
   ],
   "source": [
    "fig, ax = plt.subplots(figsize = (6,6))\n",
    "i = 0\n",
    "\n",
    "plt.scatter(x[0], y[0], marker = 's')"
   ]
  },
  {
   "cell_type": "code",
   "execution_count": 65,
   "metadata": {},
   "outputs": [
    {
     "data": {
      "text/plain": [
       "[(2017.0,\n",
       "  2018.0,\n",
       "  2019.0,\n",
       "  2019.0,\n",
       "  2019.0,\n",
       "  2020.0,\n",
       "  2020.0,\n",
       "  2020.0,\n",
       "  2020.0,\n",
       "  2021.0,\n",
       "  2021.0,\n",
       "  2022.0,\n",
       "  2022.0,\n",
       "  2022.0,\n",
       "  2022.0,\n",
       "  2022.0,\n",
       "  2023.0,\n",
       "  2023.0,\n",
       "  2023.0,\n",
       "  2024.0,\n",
       "  2025.0,\n",
       "  2025.0,\n",
       "  2025.0,\n",
       "  2025.0,\n",
       "  2026.0,\n",
       "  2026.0,\n",
       "  2026.0,\n",
       "  2027.0,\n",
       "  2027.0,\n",
       "  2027.0,\n",
       "  2027.0,\n",
       "  2027.0)]"
      ]
     },
     "execution_count": 65,
     "metadata": {},
     "output_type": "execute_result"
    }
   ],
   "source": [
    "x"
   ]
  },
  {
   "cell_type": "code",
   "execution_count": null,
   "metadata": {
    "collapsed": true
   },
   "outputs": [],
   "source": []
  }
 ],
 "metadata": {
  "kernelspec": {
   "display_name": "Python 2",
   "language": "python",
   "name": "python2"
  },
  "language_info": {
   "codemirror_mode": {
    "name": "ipython",
    "version": 2
   },
   "file_extension": ".py",
   "mimetype": "text/x-python",
   "name": "python",
   "nbconvert_exporter": "python",
   "pygments_lexer": "ipython2",
   "version": "2.7.14"
  }
 },
 "nbformat": 4,
 "nbformat_minor": 2
}
