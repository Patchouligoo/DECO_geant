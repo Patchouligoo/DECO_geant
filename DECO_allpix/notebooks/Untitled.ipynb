{
 "cells": [
  {
   "cell_type": "code",
   "execution_count": 1,
   "metadata": {},
   "outputs": [],
   "source": [
    "import numpy as np\n",
    "import uproot"
   ]
  },
  {
   "cell_type": "code",
   "execution_count": 2,
   "metadata": {},
   "outputs": [],
   "source": [
    "a = uproot.open('/Users/APizzuto/Desktop/DECO_geant/DECO_allpix/source_shielding/output/output.root')"
   ]
  },
  {
   "cell_type": "code",
   "execution_count": 4,
   "metadata": {},
   "outputs": [
    {
     "data": {
      "text/plain": [
       "[(b'clusters;1', uproot.rootio.TTree)]"
      ]
     },
     "execution_count": 4,
     "metadata": {},
     "output_type": "execute_result"
    }
   ],
   "source": [
    "a.allclasses()"
   ]
  },
  {
   "cell_type": "code",
   "execution_count": 9,
   "metadata": {},
   "outputs": [],
   "source": [
    "clusts = a[b'clusters']"
   ]
  },
  {
   "cell_type": "code",
   "execution_count": 11,
   "metadata": {},
   "outputs": [],
   "source": [
    "my_dict = clusts.arrays()"
   ]
  },
  {
   "cell_type": "code",
   "execution_count": 15,
   "metadata": {},
   "outputs": [
    {
     "data": {
      "text/plain": [
       "{b'eventNr': array([  1,   2,   3,   4,   5,   6,   7,   8,   9,  10,  11,  12,  13,\n",
       "         14,  15,  16,  17,  18,  19,  20,  21,  22,  23,  24,  25,  26,\n",
       "         27,  28,  29,  30,  31,  32,  33,  34,  35,  36,  37,  38,  39,\n",
       "         40,  41,  42,  43,  44,  45,  46,  47,  48,  49,  50,  51,  52,\n",
       "         53,  54,  55,  56,  57,  58,  59,  60,  61,  62,  63,  64,  65,\n",
       "         66,  67,  68,  69,  70,  71,  72,  73,  74,  75,  76,  77,  78,\n",
       "         79,  80,  81,  82,  83,  84,  85,  86,  87,  88,  89,  90,  91,\n",
       "         92,  93,  94,  95,  96,  97,  98,  99, 100], dtype=int32),\n",
       " b'size': array([ 2,  7, 10,  9, 12,  4,  8,  8,  3,  6,  1,  7,  6,  3, 11,  0,  0,\n",
       "         7,  7,  7,  8,  5,  8, 13,  6, 21,  6,  8,  8,  4,  5, 19,  6, 10,\n",
       "         8,  7,  7, 13, 10,  6,  4,  2, 44,  7,  7,  6,  3, 10,  3,  8,  7,\n",
       "         8,  3,  4,  7, 10, 16, 10, 10, 12,  6, 10, 11,  2,  6,  4, 11, 10,\n",
       "         2,  3,  3,  4, 10, 11,  7,  3,  9,  6, 11,  7,  5, 17,  6, 10, 12,\n",
       "         5,  7,  9, 10, 12, 11,  7,  9,  9, 12,  5,  6,  7,  7,  5],\n",
       "       dtype=int32),\n",
       " b'sizeX': array([ 2,  7,  8,  9, 12,  3,  5,  5,  3,  6,  1,  7,  6,  3,  5,  0,  0,\n",
       "         7,  7,  7,  6,  4,  8,  9,  6,  8,  6,  7,  8,  4,  5, 14,  5,  7,\n",
       "         4,  4,  6, 13, 10,  5,  4,  2, 21,  7,  7,  6,  3,  8,  2,  5,  6,\n",
       "         7,  3,  4,  7, 10,  9,  9,  9,  9,  4,  7,  9,  1,  5,  3,  7, 10,\n",
       "         2,  3,  3,  3,  7,  8,  5,  3,  8,  6,  8,  7,  5,  8,  5, 10,  9,\n",
       "         5,  7,  8, 10,  9,  9,  7,  9,  9,  8,  5,  4,  7,  7,  4],\n",
       "       dtype=int32),\n",
       " b'sizeY': array([ 1,  1,  2,  1,  1,  2,  2,  2,  1,  1,  1,  1,  1,  1,  5,  0,  0,\n",
       "         1,  1,  1,  2,  2,  1,  2,  2,  5,  1,  2,  1,  1,  1,  3,  2,  2,\n",
       "         2,  3,  2,  1,  1,  2,  1,  1, 15,  1,  1,  1,  2,  2,  2,  2,  2,\n",
       "         2,  1,  1,  1,  1,  2,  2,  2,  2,  2,  2,  2,  2,  2,  2,  2,  1,\n",
       "         1,  1,  1,  2,  2,  2,  2,  1,  2,  1,  3,  1,  1,  4,  2,  1,  3,\n",
       "         1,  1,  2,  1,  3,  2,  1,  1,  1,  2,  1,  2,  1,  1,  2],\n",
       "       dtype=int32),\n",
       " b'aspectRatio': array([0.5       , 0.14285714, 0.25      , 0.11111111, 0.08333333,\n",
       "        0.66666667, 0.4       , 0.4       , 0.33333333, 0.16666667,\n",
       "        1.        , 0.14285714, 0.16666667, 0.33333333, 1.        ,\n",
       "               nan,        nan, 0.14285714, 0.14285714, 0.14285714,\n",
       "        0.33333333, 0.5       , 0.125     , 0.22222222, 0.33333333,\n",
       "        0.625     , 0.16666667, 0.28571429, 0.125     , 0.25      ,\n",
       "        0.2       , 0.21428571, 0.4       , 0.28571429, 0.5       ,\n",
       "        0.75      , 0.33333333, 0.07692308, 0.1       , 0.4       ,\n",
       "        0.25      , 0.5       , 0.71428571, 0.14285714, 0.14285714,\n",
       "        0.16666667, 0.66666667, 0.25      , 1.        , 0.4       ,\n",
       "        0.33333333, 0.28571429, 0.33333333, 0.25      , 0.14285714,\n",
       "        0.1       , 0.22222222, 0.22222222, 0.22222222, 0.22222222,\n",
       "        0.5       , 0.28571429, 0.22222222, 2.        , 0.4       ,\n",
       "        0.66666667, 0.28571429, 0.1       , 0.5       , 0.33333333,\n",
       "        0.33333333, 0.66666667, 0.28571429, 0.25      , 0.4       ,\n",
       "        0.33333333, 0.25      , 0.16666667, 0.375     , 0.14285714,\n",
       "        0.2       , 0.5       , 0.4       , 0.1       , 0.33333333,\n",
       "        0.2       , 0.14285714, 0.25      , 0.1       , 0.33333333,\n",
       "        0.22222222, 0.14285714, 0.11111111, 0.11111111, 0.25      ,\n",
       "        0.2       , 0.5       , 0.14285714, 0.14285714, 0.5       ]),\n",
       " b'totalCharge': array([ 10724,  15414,  14102,  20614,  14882,  15754,  13308,  14756,\n",
       "         11276,  13264,   7502,  15296,  12426,  10698,  34306,   7036,\n",
       "          8116,  13822,  15456,  15432,  17618,  12074,  16712,  21242,\n",
       "         12034,  75262,  12138,  19688,  14594,  10436,   8434,  38382,\n",
       "         12314,  17550,  17734,  27878,  14642,  21248,  19500,  12198,\n",
       "         11774,  10036, 122198,  11846,  11680,  11954,  11212,  18760,\n",
       "         12964,  14574,  15748,  14076,  10416,  11704,  14746,  14670,\n",
       "         28312,  18748,  16130,  30506,  11798,  17934,  22118,  10542,\n",
       "         13200,  13534,  21758,  18852,   9468,  10342,  10490,  13250,\n",
       "         15050,  22472,  12216,   9514,  18182,  13008,  25350,  12944,\n",
       "         10600,  58420,  11482,  24290,  25128,  11412,  16876,  17298,\n",
       "         23382,  29372,  26250,  13318,  16782,  13122,  20356,  13554,\n",
       "         16308,  14282,  12906,  13024], dtype=int32),\n",
       " b'charge': <JaggedArray [[25 225 117 ... 25 75 23] [25 50 693 ... 25 25 31] [50 165 25 ... 91 25 82] ... [25 25 125 ... 561 50 25] [200 25 538 ... 32 50 25] [25 148 66 ... 75 75 58]] at 0x00010e1e34a8>,\n",
       " b'totalSignal': array([  1345,   6418,   7883,  10616,   9844,   4078,   6539,   7580,\n",
       "          2654,   5877,    798,   7262,   5440,   2644,  25516,      0,\n",
       "             0,   7052,   7784,   8781,   7844,   3832,   8750,  12950,\n",
       "          4727,  67653,   5513,  11263,   8194,   2686,   3624,  32125,\n",
       "          4941,  10029,  10802,  18877,   5986,  13776,  10982,   5004,\n",
       "          3017,   1380, 101787,   5879,   6303,   5235,   2326,  12212,\n",
       "          4525,   6373,   7324,   7121,   2224,   2999,   7578,   8012,\n",
       "         23193,   9852,   8289,  22169,   4627,  11035,  14600,   1859,\n",
       "          5985,   3082,  14460,  11056,   1582,   2349,   2378,   3025,\n",
       "          7130,  12641,   5763,   2175,  10325,   4300,  18085,   5724,\n",
       "          3728,  51443,   4534,  14512,  17491,   4527,   7934,   8455,\n",
       "         16452,  21635,  16107,   5447,  10666,   7958,  11433,   3836,\n",
       "          8800,   5576,   6144,   4011], dtype=int32),\n",
       " b'signal': <JaggedArray [[647 698] [645 830 1317 ... 905 756 714] [708 661 723 ... 680 1363 796] ... [683 748 1309 ... 680 671 790] [799 672 1217 ... 872 769 568] [557 709 636 1109 1000]] at 0x00010e1e3588>,\n",
       " b'row': <JaggedArray [[895 895] [969 969 969 ... 969 969 969] [992 992 992 ... 992 992 992] ... [973 973 973 ... 973 973 973] [900 900 900 ... 900 900 900] [879 878 879 879 879]] at 0x00010e1e34e0>,\n",
       " b'col': <JaggedArray [[1288 1298] [1210 1211 1212 ... 1219 1220 1223] [1241 1242 1243 ... 1247 1248 1249] ... [1132 1133 1134 ... 1137 1138 1139] [1354 1357 1358 ... 1360 1365 1366] [1246 1253 1253 1257 1258]] at 0x00010e1e3518>,\n",
       " b'trackCount': array([2, 2, 2, 2, 2, 3, 3, 2, 2, 2, 2, 2, 2, 2, 5, 2, 2, 2, 2, 3, 2, 3,\n",
       "        3, 2, 2, 4, 2, 3, 2, 2, 2, 2, 2, 3, 4, 3, 2, 3, 4, 2, 2, 2, 8, 2,\n",
       "        2, 4, 2, 2, 3, 2, 3, 3, 2, 2, 3, 3, 5, 4, 2, 4, 2, 3, 3, 2, 3, 2,\n",
       "        3, 4, 2, 2, 2, 2, 2, 3, 2, 2, 3, 2, 3, 2, 2, 7, 3, 4, 3, 2, 3, 2,\n",
       "        4, 3, 3, 2, 2, 2, 4, 2, 3, 2, 3, 2], dtype=int32),\n",
       " b'trackLocalX': array([1.16176435, 1.09620594, 1.12278299, 1.17738265, 1.16278503,\n",
       "        1.28681637, 1.15551771, 1.06310985, 1.18502179, 1.21414792,\n",
       "        1.17224506, 1.35434   , 1.27069673, 1.08687075, 1.10558041,\n",
       "        1.40117339, 1.15957108, 1.24962453, 1.07930788, 1.35472563,\n",
       "        1.02202303, 1.17150054, 1.22530431, 1.20644733, 1.11787591,\n",
       "        1.19793373, 1.12351575, 1.10864408, 1.22996471, 1.12155815,\n",
       "        1.05157696, 1.19205923, 1.1281797 , 1.08431168, 1.25446087,\n",
       "        1.17849928, 1.25916771, 1.060664  , 1.14632562, 1.20116891,\n",
       "        1.01515139, 1.22744686, 1.16313255, 1.12866974, 1.14217101,\n",
       "        1.83044885, 1.11408906, 1.29778797, 1.16668325, 1.14318398,\n",
       "        1.19769272, 1.09680876, 1.13002507, 1.20589717, 1.11798199,\n",
       "        1.37578653, 1.20019854, 1.22415363, 1.10838252, 1.07151127,\n",
       "        1.21499033, 1.2943041 , 1.1988918 , 1.26733526, 1.27627271,\n",
       "        1.23856726, 1.11006003, 1.14634295, 1.15922593, 1.13221667,\n",
       "        1.21398888, 1.11305872, 1.12953527, 1.030344  , 1.0724265 ,\n",
       "        1.1894231 , 1.18349754, 1.03210525, 1.22277379, 1.20380393,\n",
       "        1.28625129, 1.18465454, 1.13817909, 1.25744248, 1.18205238,\n",
       "        1.1376717 , 1.24829606, 1.2164123 , 1.10701476, 1.1551046 ,\n",
       "        1.14383132, 1.13190259, 1.13686727, 1.1728968 , 1.08499307,\n",
       "        1.20664761, 1.08279818, 1.0174054 , 0.42075381, 1.12595596]),\n",
       " b'trackLocalY': array([0.80505795, 0.87197032, 0.89252403, 0.89893784, 0.86396109,\n",
       "        0.82659869, 0.87260697, 0.81321115, 0.86154444, 0.88367982,\n",
       "        0.90943298, 0.95140324, 0.95131837, 0.8559406 , 0.95312066,\n",
       "        0.90971052, 0.87698342, 1.04783655, 0.91523896, 0.82348887,\n",
       "        0.8841458 , 0.76372318, 0.79396444, 0.83738222, 1.03106941,\n",
       "        0.86474682, 0.85778385, 0.85031991, 0.89990289, 0.80033534,\n",
       "        0.96638432, 0.86027077, 0.93753018, 1.02737278, 0.84909742,\n",
       "        0.85160601, 0.90243953, 0.94951092, 0.89627699, 0.89936858,\n",
       "        0.73154872, 0.86002721, 0.8749973 , 0.85050111, 0.83892558,\n",
       "        1.76787647, 0.80615675, 0.81519403, 0.91469192, 0.91478501,\n",
       "        0.77601997, 0.9232939 , 0.86994512, 0.85618474, 0.90981149,\n",
       "        0.92064308, 0.82928128, 0.8633322 , 0.89804185, 0.86281383,\n",
       "        0.81495104, 0.85829877, 0.77119498, 0.94355298, 0.80705035,\n",
       "        0.77536757, 0.86274975, 0.85667426, 0.8614385 , 0.76177912,\n",
       "        0.86405201, 0.85268082, 0.85546977, 0.90417339, 0.86732076,\n",
       "        0.94069511, 0.79802059, 0.88611824, 0.92993836, 0.83272214,\n",
       "        0.88090136, 0.86399998, 0.89074183, 0.86658034, 0.79454096,\n",
       "        0.92133396, 0.92678725, 0.94833239, 0.7479151 , 0.89376522,\n",
       "        0.85562514, 0.8439112 , 0.8243588 , 0.88373579, 0.79776809,\n",
       "        0.8696462 , 0.82957267, 0.87545785, 0.39274508, 0.79074168]),\n",
       " b'localX': array([1.16386829, 1.09439249, 1.12092373, 1.17538273, 1.16286026,\n",
       "        1.28669423, 1.15312125, 1.06038461, 1.18510913, 1.2179447 ,\n",
       "        1.1646    , 1.35370581, 1.26937558, 1.08932835, 1.10468587,\n",
       "               nan,        nan, 1.25067765, 1.0810653 , 1.35486186,\n",
       "        1.02090814, 1.17073773, 1.22128557, 1.20525706, 1.11553111,\n",
       "        1.19773805, 1.12609453, 1.10809107, 1.22941946, 1.12167788,\n",
       "        1.05246678, 1.19149738, 1.13191995, 1.08390061, 1.25444641,\n",
       "        1.17880768, 1.26065678, 1.0630854 , 1.14387987, 1.20088997,\n",
       "        1.01849775, 1.22715855, 1.15782934, 1.13040702, 1.14564415,\n",
       "        1.14641604, 1.11848081, 1.30075047, 1.16946544, 1.14463071,\n",
       "        1.19618202, 1.0980454 , 1.12900069, 1.20632299, 1.11882718,\n",
       "        1.37645532, 1.1998586 , 1.2243872 , 1.10990974, 1.07381766,\n",
       "        1.21376346, 1.29174892, 1.19798199, 1.2609    , 1.27778482,\n",
       "        1.23726797, 1.11263219, 1.14662506, 1.16426945, 1.13809412,\n",
       "        1.20910561, 1.10957642, 1.13088347, 1.02948432, 1.07414266,\n",
       "        1.18961021, 1.18302676, 1.03144272, 1.22212857, 1.20582625,\n",
       "        1.28542668, 1.18444546, 1.13692475, 1.25738501, 1.18307713,\n",
       "        1.13301553, 1.24710127, 1.21662648, 1.10769049, 1.15262807,\n",
       "        1.15174359, 1.13039464, 1.13584682, 1.17271613, 1.08260728,\n",
       "        1.20659093, 1.0822996 , 1.02188321, 1.22352606, 1.12894076]),\n",
       " b'localY': array([0.8055    , 0.8721    , 0.89264469, 0.8991    , 0.864     ,\n",
       "        0.82660921, 0.87256073, 0.81310415, 0.8613    , 0.8838    ,\n",
       "        0.9099    , 0.9513    , 0.9513    , 0.8559    , 0.9535717 ,\n",
       "               nan,        nan, 1.0476    , 0.9153    , 0.8235    ,\n",
       "        0.88401033, 0.7637668 , 0.7938    , 0.83731606, 1.03116204,\n",
       "        0.86436855, 0.8577    , 0.85044846, 0.9       , 0.8001    ,\n",
       "        0.9666    , 0.86033312, 0.93764062, 1.02749807, 0.849095  ,\n",
       "        0.85147907, 0.90258062, 0.9495    , 0.8964    , 0.89922052,\n",
       "        0.7317    , 0.8604    , 0.87963592, 0.8505    , 0.8388    ,\n",
       "        1.0179    , 0.80617868, 0.8152236 , 0.91468253, 0.9147205 ,\n",
       "        0.77587623, 0.92331808, 0.8703    , 0.8559    , 0.9099    ,\n",
       "        0.9207    , 0.82925106, 0.86315642, 0.89813111, 0.8628573 ,\n",
       "        0.81480962, 0.85836049, 0.77120241, 0.94361641, 0.80718356,\n",
       "        0.77538363, 0.86282825, 0.8568    , 0.8613    , 0.7623    ,\n",
       "        0.864     , 0.85250409, 0.85529133, 0.90425993, 0.86736517,\n",
       "        0.9405    , 0.79819105, 0.8865    , 0.9298263 , 0.8325    ,\n",
       "        0.8811    , 0.8638291 , 0.89088592, 0.8667    , 0.79463815,\n",
       "        0.9216    , 0.927     , 0.94846916, 0.7479    , 0.89375498,\n",
       "        0.85581238, 0.8442    , 0.8244    , 0.8838    , 0.79768888,\n",
       "        0.8694    , 0.82954551, 0.8757    , 0.81      , 0.79094086]),\n",
       " b'resX': array([-2.10393964e-03,  1.81344197e-03,  1.85926164e-03,  1.99992015e-03,\n",
       "        -7.52350998e-05,  1.22141131e-04,  2.39646180e-03,  2.72523589e-03,\n",
       "        -8.73409144e-05, -3.79678357e-03,  7.64506422e-03,  6.34185708e-04,\n",
       "         1.32115280e-03, -2.45760236e-03,  8.94538591e-04,             nan,\n",
       "                    nan, -1.05311397e-03, -1.75741950e-03, -1.36227185e-04,\n",
       "         1.11489349e-03,  7.62808268e-04,  4.01873943e-03,  1.19026655e-03,\n",
       "         2.34479963e-03,  1.95681281e-04, -2.57878783e-03,  5.53016202e-04,\n",
       "         5.45248089e-04, -1.19738194e-04, -8.89821739e-04,  5.61850886e-04,\n",
       "        -3.74024555e-03,  4.11068526e-04,  1.44587138e-05, -3.08403012e-04,\n",
       "        -1.48907005e-03, -2.42140051e-03,  2.44574588e-03,  2.78933946e-04,\n",
       "        -3.34636084e-03,  2.88312643e-04,  5.30321369e-03, -1.73728258e-03,\n",
       "        -3.47313161e-03,  6.84032806e-01, -4.39174858e-03, -2.96249302e-03,\n",
       "        -2.78219480e-03, -1.44673087e-03,  1.51070457e-03, -1.23664340e-03,\n",
       "         1.02438457e-03, -4.25823790e-04, -8.45190084e-04, -6.68791302e-04,\n",
       "         3.39941360e-04, -2.33570610e-04, -1.52722497e-03, -2.30639429e-03,\n",
       "         1.22687364e-03,  2.55517403e-03,  9.09804514e-04,  6.43525705e-03,\n",
       "        -1.51210823e-03,  1.29929196e-03, -2.57216715e-03, -2.82108125e-04,\n",
       "        -5.04351320e-03, -5.87745081e-03,  4.88326841e-03,  3.48229980e-03,\n",
       "        -1.34820272e-03,  8.59683369e-04, -1.71615296e-03, -1.87112339e-04,\n",
       "         4.70785613e-04,  6.62531601e-04,  6.45219148e-04, -2.02231813e-03,\n",
       "         8.24607727e-04,  2.09082816e-04,  1.25433966e-03,  5.74664331e-05,\n",
       "        -1.02474970e-03,  4.65617145e-03,  1.19478882e-03, -2.14179296e-04,\n",
       "        -6.75723295e-04,  2.47653817e-03, -7.91226378e-03,  1.50794839e-03,\n",
       "         1.02045319e-03,  1.80670276e-04,  2.38579194e-03,  5.66793356e-05,\n",
       "         4.98570938e-04, -4.47780863e-03, -8.02772251e-01, -2.98479866e-03]),\n",
       " b'resY': array([-4.42053782e-04, -1.29681662e-04, -1.20659352e-04, -1.62159034e-04,\n",
       "        -3.89107283e-05, -1.05190526e-05,  4.62317619e-05,  1.07001293e-04,\n",
       "         2.44442289e-04, -1.20181470e-04, -4.67021972e-04,  1.03238037e-04,\n",
       "         1.83707595e-05,  4.06025699e-05, -4.51039064e-04,             nan,\n",
       "                    nan,  2.36547607e-04, -6.10388106e-05, -1.11250000e-05,\n",
       "         1.35469483e-04, -4.36200083e-05,  1.64438711e-04,  6.61608333e-05,\n",
       "        -9.26307022e-05,  3.78272467e-04,  8.38503161e-05, -1.28547396e-04,\n",
       "        -9.71144102e-05,  2.35343275e-04, -2.15684339e-04, -6.23581388e-05,\n",
       "        -1.10444739e-04, -1.25298282e-04,  2.41961686e-06,  1.26941703e-04,\n",
       "        -1.41097551e-04,  1.09204527e-05, -1.23005662e-04,  1.48067872e-04,\n",
       "        -1.51276998e-04, -3.72794814e-04, -4.63862103e-03,  1.10693203e-06,\n",
       "         1.25576452e-04,  7.49976472e-01, -2.19271605e-05, -2.95701397e-05,\n",
       "         9.39094078e-06,  6.45088977e-05,  1.43735418e-04, -2.41837532e-05,\n",
       "        -3.54879372e-04,  2.84741655e-04, -8.85136954e-05, -5.69219678e-05,\n",
       "         3.02157605e-05,  1.75783174e-04, -8.92629716e-05, -4.34636471e-05,\n",
       "         1.41413656e-04, -6.17176918e-05, -7.43342328e-06, -6.34258426e-05,\n",
       "        -1.33210176e-04, -1.60609120e-05, -7.84990241e-05, -1.25738591e-04,\n",
       "         1.38501478e-04, -5.20882071e-04,  5.20123691e-05,  1.76731957e-04,\n",
       "         1.78439362e-04, -8.65401396e-05, -4.44073672e-05,  1.95113847e-04,\n",
       "        -1.70465629e-04, -3.81756289e-04,  1.12053891e-04,  2.22144291e-04,\n",
       "        -1.98644361e-04,  1.70882597e-04, -1.44086909e-04, -1.19664755e-04,\n",
       "        -9.71877508e-05, -2.66035984e-04, -2.12746468e-04, -1.36763090e-04,\n",
       "         1.51033813e-05,  1.02444450e-05, -1.87244683e-04, -2.88797068e-04,\n",
       "        -4.12007235e-05, -6.42053565e-05,  7.92157957e-05,  2.46201191e-04,\n",
       "         2.71644514e-05, -2.42147093e-04, -4.17254917e-01, -1.99186340e-04])}"
      ]
     },
     "execution_count": 15,
     "metadata": {},
     "output_type": "execute_result"
    }
   ],
   "source": [
    "my_dict"
   ]
  },
  {
   "cell_type": "code",
   "execution_count": 5,
   "metadata": {},
   "outputs": [
    {
     "data": {
      "text/plain": [
       "[<TProcessID b'ProcessID0' at 0x00011861dcf8>,\n",
       " <ROOTDirectory b'config' at 0x00011860f3c8>,\n",
       " <ROOTDirectory b'detectors' at 0x00011860f470>,\n",
       " <ROOTDirectory b'models' at 0x00011860f518>,\n",
       " <TTree b'MCParticle' at 0x00011861dd68>,\n",
       " <TTree b'MCTrack' at 0x00011860f710>]"
      ]
     },
     "execution_count": 5,
     "metadata": {},
     "output_type": "execute_result"
    }
   ],
   "source": [
    "a.values()"
   ]
  },
  {
   "cell_type": "code",
   "execution_count": 6,
   "metadata": {},
   "outputs": [],
   "source": [
    "c = a[b'MCTrack']"
   ]
  },
  {
   "cell_type": "code",
   "execution_count": 7,
   "metadata": {},
   "outputs": [
    {
     "data": {
      "text/plain": [
       "{}"
      ]
     },
     "execution_count": 7,
     "metadata": {},
     "output_type": "execute_result"
    }
   ],
   "source": [
    "c.arrays()"
   ]
  },
  {
   "cell_type": "code",
   "execution_count": 8,
   "metadata": {},
   "outputs": [],
   "source": [
    "a = uproot.open('/Users/APizzuto/Desktop/allpix/allpix-squared/examples/replay_simulation/output/output_replay_simulation.root')"
   ]
  },
  {
   "cell_type": "code",
   "execution_count": 9,
   "metadata": {},
   "outputs": [],
   "source": [
    "mcparts = a[b'MCParticle']\n",
    "pixelhit = a[b'PixelHit']"
   ]
  },
  {
   "cell_type": "code",
   "execution_count": 10,
   "metadata": {},
   "outputs": [
    {
     "data": {
      "text/plain": [
       "[<TBranchElement b'telescope0' at 0x00011860fa90>,\n",
       " <TBranchElement b'telescope1' at 0x000119938390>,\n",
       " <TBranchElement b'telescope2' at 0x000119938b38>,\n",
       " <TBranchElement b'telescope3' at 0x000119938c50>,\n",
       " <TBranchElement b'telescope4' at 0x000119938d68>,\n",
       " <TBranchElement b'telescope5' at 0x000119938e80>]"
      ]
     },
     "execution_count": 10,
     "metadata": {},
     "output_type": "execute_result"
    }
   ],
   "source": [
    "mcparts.values()"
   ]
  },
  {
   "cell_type": "code",
   "execution_count": 11,
   "metadata": {},
   "outputs": [],
   "source": [
    "tel = mcparts[b'telescope0']"
   ]
  },
  {
   "cell_type": "code",
   "execution_count": 12,
   "metadata": {},
   "outputs": [
    {
     "data": {
      "text/plain": [
       "[]"
      ]
     },
     "execution_count": 12,
     "metadata": {},
     "output_type": "execute_result"
    }
   ],
   "source": [
    "tel.allvalues()"
   ]
  },
  {
   "cell_type": "code",
   "execution_count": 13,
   "metadata": {},
   "outputs": [
    {
     "data": {
      "text/plain": [
       "[]"
      ]
     },
     "execution_count": 13,
     "metadata": {},
     "output_type": "execute_result"
    }
   ],
   "source": [
    "pixelhit[b'telescope5'].allvalues()"
   ]
  },
  {
   "cell_type": "code",
   "execution_count": 14,
   "metadata": {},
   "outputs": [
    {
     "data": {
      "text/plain": [
       "<ROOTDirectory b'/Users/APizzuto/Desktop/allpix/allpix-squared/examples/replay_simulation/output/output_replay_simulation.root' at 0x000119938a90>"
      ]
     },
     "execution_count": 14,
     "metadata": {},
     "output_type": "execute_result"
    }
   ],
   "source": [
    "a"
   ]
  },
  {
   "cell_type": "code",
   "execution_count": 61,
   "metadata": {},
   "outputs": [],
   "source": [
    "pixhit = a['PixelHit']"
   ]
  },
  {
   "cell_type": "code",
   "execution_count": 65,
   "metadata": {},
   "outputs": [],
   "source": [
    "c=pixhit.iterate()"
   ]
  },
  {
   "cell_type": "code",
   "execution_count": 93,
   "metadata": {},
   "outputs": [],
   "source": [
    "d = pixhit.numbranches"
   ]
  },
  {
   "cell_type": "code",
   "execution_count": 101,
   "metadata": {},
   "outputs": [],
   "source": [
    "d = pixhit['telescope0']"
   ]
  },
  {
   "cell_type": "code",
   "execution_count": 102,
   "metadata": {},
   "outputs": [
    {
     "data": {
      "text/plain": [
       "<TBranchElement b'telescope0' at 0x00011195fe10>"
      ]
     },
     "execution_count": 102,
     "metadata": {},
     "output_type": "execute_result"
    }
   ],
   "source": [
    "d"
   ]
  },
  {
   "cell_type": "code",
   "execution_count": 100,
   "metadata": {},
   "outputs": [
    {
     "ename": "ValueError",
     "evalue": "cannot interpret branch b'telescope0' as a Python type\n   in file: /Users/APizzuto/Desktop/allpix/allpix-squared/examples/replay_simulation/output/output_replay_simulation.root",
     "output_type": "error",
     "traceback": [
      "\u001b[0;31m---------------------------------------------------------------------------\u001b[0m",
      "\u001b[0;31mValueError\u001b[0m                                Traceback (most recent call last)",
      "\u001b[0;32m<ipython-input-100-287ae4b15bc3>\u001b[0m in \u001b[0;36m<module>\u001b[0;34m()\u001b[0m\n\u001b[1;32m      1\u001b[0m \u001b[0mbasketcache\u001b[0m \u001b[0;34m=\u001b[0m \u001b[0;34m{\u001b[0m\u001b[0;34m}\u001b[0m\u001b[0;34m\u001b[0m\u001b[0m\n\u001b[0;32m----> 2\u001b[0;31m \u001b[0md\u001b[0m\u001b[0;34m.\u001b[0m\u001b[0marray\u001b[0m\u001b[0;34m(\u001b[0m\u001b[0mentrystart\u001b[0m\u001b[0;34m=\u001b[0m\u001b[0;36m5\u001b[0m\u001b[0;34m,\u001b[0m \u001b[0mentrystop\u001b[0m\u001b[0;34m=\u001b[0m\u001b[0;36m15\u001b[0m\u001b[0;34m,\u001b[0m \u001b[0mbasketcache\u001b[0m\u001b[0;34m=\u001b[0m\u001b[0mbasketcache\u001b[0m\u001b[0;34m)\u001b[0m\u001b[0;34m\u001b[0m\u001b[0m\n\u001b[0m",
      "\u001b[0;32m/anaconda2/envs/pyth3env/lib/python3.6/site-packages/uproot/tree.py\u001b[0m in \u001b[0;36marray\u001b[0;34m(self, interpretation, entrystart, entrystop, flatten, flatname, awkwardlib, cache, basketcache, keycache, executor, blocking)\u001b[0m\n\u001b[1;32m   1294\u001b[0m     \u001b[0;32mdef\u001b[0m \u001b[0marray\u001b[0m\u001b[0;34m(\u001b[0m\u001b[0mself\u001b[0m\u001b[0;34m,\u001b[0m \u001b[0minterpretation\u001b[0m\u001b[0;34m=\u001b[0m\u001b[0;32mNone\u001b[0m\u001b[0;34m,\u001b[0m \u001b[0mentrystart\u001b[0m\u001b[0;34m=\u001b[0m\u001b[0;32mNone\u001b[0m\u001b[0;34m,\u001b[0m \u001b[0mentrystop\u001b[0m\u001b[0;34m=\u001b[0m\u001b[0;32mNone\u001b[0m\u001b[0;34m,\u001b[0m \u001b[0mflatten\u001b[0m\u001b[0;34m=\u001b[0m\u001b[0;32mFalse\u001b[0m\u001b[0;34m,\u001b[0m \u001b[0mflatname\u001b[0m\u001b[0;34m=\u001b[0m\u001b[0;32mNone\u001b[0m\u001b[0;34m,\u001b[0m \u001b[0mawkwardlib\u001b[0m\u001b[0;34m=\u001b[0m\u001b[0;32mNone\u001b[0m\u001b[0;34m,\u001b[0m \u001b[0mcache\u001b[0m\u001b[0;34m=\u001b[0m\u001b[0;32mNone\u001b[0m\u001b[0;34m,\u001b[0m \u001b[0mbasketcache\u001b[0m\u001b[0;34m=\u001b[0m\u001b[0;32mNone\u001b[0m\u001b[0;34m,\u001b[0m \u001b[0mkeycache\u001b[0m\u001b[0;34m=\u001b[0m\u001b[0;32mNone\u001b[0m\u001b[0;34m,\u001b[0m \u001b[0mexecutor\u001b[0m\u001b[0;34m=\u001b[0m\u001b[0;32mNone\u001b[0m\u001b[0;34m,\u001b[0m \u001b[0mblocking\u001b[0m\u001b[0;34m=\u001b[0m\u001b[0;32mTrue\u001b[0m\u001b[0;34m)\u001b[0m\u001b[0;34m:\u001b[0m\u001b[0;34m\u001b[0m\u001b[0m\n\u001b[1;32m   1295\u001b[0m         \u001b[0mawkward\u001b[0m \u001b[0;34m=\u001b[0m \u001b[0m_normalize_awkwardlib\u001b[0m\u001b[0;34m(\u001b[0m\u001b[0mawkwardlib\u001b[0m\u001b[0;34m)\u001b[0m\u001b[0;34m\u001b[0m\u001b[0m\n\u001b[0;32m-> 1296\u001b[0;31m         \u001b[0minterpretation\u001b[0m \u001b[0;34m=\u001b[0m \u001b[0mself\u001b[0m\u001b[0;34m.\u001b[0m\u001b[0m_normalize_interpretation\u001b[0m\u001b[0;34m(\u001b[0m\u001b[0minterpretation\u001b[0m\u001b[0;34m,\u001b[0m \u001b[0mawkward\u001b[0m\u001b[0;34m)\u001b[0m\u001b[0;34m\u001b[0m\u001b[0m\n\u001b[0m\u001b[1;32m   1297\u001b[0m         \u001b[0;32mif\u001b[0m \u001b[0minterpretation\u001b[0m \u001b[0;32mis\u001b[0m \u001b[0;32mNone\u001b[0m\u001b[0;34m:\u001b[0m\u001b[0;34m\u001b[0m\u001b[0m\n\u001b[1;32m   1298\u001b[0m             \u001b[0;32mraise\u001b[0m \u001b[0mValueError\u001b[0m\u001b[0;34m(\u001b[0m\u001b[0;34m\"cannot interpret branch {0} as a Python type\\n   in file: {1}\"\u001b[0m\u001b[0;34m.\u001b[0m\u001b[0mformat\u001b[0m\u001b[0;34m(\u001b[0m\u001b[0mrepr\u001b[0m\u001b[0;34m(\u001b[0m\u001b[0mself\u001b[0m\u001b[0;34m.\u001b[0m\u001b[0mname\u001b[0m\u001b[0;34m)\u001b[0m\u001b[0;34m,\u001b[0m \u001b[0mself\u001b[0m\u001b[0;34m.\u001b[0m\u001b[0m_context\u001b[0m\u001b[0;34m.\u001b[0m\u001b[0msourcepath\u001b[0m\u001b[0;34m)\u001b[0m\u001b[0;34m)\u001b[0m\u001b[0;34m\u001b[0m\u001b[0m\n",
      "\u001b[0;32m/anaconda2/envs/pyth3env/lib/python3.6/site-packages/uproot/tree.py\u001b[0m in \u001b[0;36m_normalize_interpretation\u001b[0;34m(self, interpretation, awkward)\u001b[0m\n\u001b[1;32m   1030\u001b[0m \u001b[0;34m\u001b[0m\u001b[0m\n\u001b[1;32m   1031\u001b[0m         \u001b[0;32mif\u001b[0m \u001b[0minterpretation\u001b[0m \u001b[0;32mis\u001b[0m \u001b[0;32mNone\u001b[0m\u001b[0;34m:\u001b[0m\u001b[0;34m\u001b[0m\u001b[0m\n\u001b[0;32m-> 1032\u001b[0;31m             \u001b[0;32mraise\u001b[0m \u001b[0mValueError\u001b[0m\u001b[0;34m(\u001b[0m\u001b[0;34m\"cannot interpret branch {0} as a Python type\\n   in file: {1}\"\u001b[0m\u001b[0;34m.\u001b[0m\u001b[0mformat\u001b[0m\u001b[0;34m(\u001b[0m\u001b[0mrepr\u001b[0m\u001b[0;34m(\u001b[0m\u001b[0mself\u001b[0m\u001b[0;34m.\u001b[0m\u001b[0mname\u001b[0m\u001b[0;34m)\u001b[0m\u001b[0;34m,\u001b[0m \u001b[0mself\u001b[0m\u001b[0;34m.\u001b[0m\u001b[0m_context\u001b[0m\u001b[0;34m.\u001b[0m\u001b[0msourcepath\u001b[0m\u001b[0;34m)\u001b[0m\u001b[0;34m)\u001b[0m\u001b[0;34m\u001b[0m\u001b[0m\n\u001b[0m\u001b[1;32m   1033\u001b[0m \u001b[0;34m\u001b[0m\u001b[0m\n\u001b[1;32m   1034\u001b[0m         \u001b[0;32mif\u001b[0m \u001b[0minterpretation\u001b[0m\u001b[0;34m.\u001b[0m\u001b[0mawkward\u001b[0m \u001b[0;32mis\u001b[0m \u001b[0;32mnot\u001b[0m \u001b[0mawkward\u001b[0m\u001b[0;34m:\u001b[0m\u001b[0;34m\u001b[0m\u001b[0m\n",
      "\u001b[0;31mValueError\u001b[0m: cannot interpret branch b'telescope0' as a Python type\n   in file: /Users/APizzuto/Desktop/allpix/allpix-squared/examples/replay_simulation/output/output_replay_simulation.root"
     ]
    }
   ],
   "source": [
    "basketcache = {}\n",
    "d.array(entrystart=5, entrystop=15, basketcache=basketcache)"
   ]
  },
  {
   "cell_type": "code",
   "execution_count": 85,
   "metadata": {},
   "outputs": [
    {
     "ename": "AttributeError",
     "evalue": "'TTree' object has no attribute 'baskets'",
     "output_type": "error",
     "traceback": [
      "\u001b[0;31m---------------------------------------------------------------------------\u001b[0m",
      "\u001b[0;31mAttributeError\u001b[0m                            Traceback (most recent call last)",
      "\u001b[0;32m<ipython-input-85-d6c5ed14e5d2>\u001b[0m in \u001b[0;36m<module>\u001b[0;34m()\u001b[0m\n\u001b[0;32m----> 1\u001b[0;31m \u001b[0mpixhit\u001b[0m\u001b[0;34m.\u001b[0m\u001b[0mbaskets\u001b[0m\u001b[0;34m(\u001b[0m\u001b[0;34m)\u001b[0m\u001b[0;34m\u001b[0m\u001b[0m\n\u001b[0m",
      "\u001b[0;31mAttributeError\u001b[0m: 'TTree' object has no attribute 'baskets'"
     ]
    }
   ],
   "source": [
    "pixhit.baskets()"
   ]
  },
  {
   "cell_type": "code",
   "execution_count": 103,
   "metadata": {},
   "outputs": [
    {
     "ename": "ModuleNotFoundError",
     "evalue": "No module named 'pyxrootd'",
     "output_type": "error",
     "traceback": [
      "\u001b[0;31m---------------------------------------------------------------------------\u001b[0m",
      "\u001b[0;31mModuleNotFoundError\u001b[0m                       Traceback (most recent call last)",
      "\u001b[0;32m<ipython-input-103-8fe05285d1c2>\u001b[0m in \u001b[0;36m<module>\u001b[0;34m()\u001b[0m\n\u001b[0;32m----> 1\u001b[0;31m \u001b[0;32mimport\u001b[0m \u001b[0mpyxrootd\u001b[0m\u001b[0;34m\u001b[0m\u001b[0m\n\u001b[0m",
      "\u001b[0;31mModuleNotFoundError\u001b[0m: No module named 'pyxrootd'"
     ]
    }
   ],
   "source": [
    "import pyxrootd"
   ]
  },
  {
   "cell_type": "code",
   "execution_count": 1,
   "metadata": {},
   "outputs": [
    {
     "ename": "ImportError",
     "evalue": "dynamic module does not define module export function (PyInit_libPyROOT)",
     "output_type": "error",
     "traceback": [
      "\u001b[0;31m---------------------------------------------------------------------------\u001b[0m",
      "\u001b[0;31mImportError\u001b[0m                               Traceback (most recent call last)",
      "\u001b[0;32m<ipython-input-1-ef80d550b0d4>\u001b[0m in \u001b[0;36m<module>\u001b[0;34m()\u001b[0m\n\u001b[0;32m----> 1\u001b[0;31m \u001b[0;32mfrom\u001b[0m \u001b[0mroot_numpy\u001b[0m \u001b[0;32mimport\u001b[0m \u001b[0mroot\u001b[0m\u001b[0;34m\u001b[0m\u001b[0m\n\u001b[0m",
      "\u001b[0;32m/anaconda2/envs/pyth3env/lib/python3.6/site-packages/root_numpy/__init__.py\u001b[0m in \u001b[0;36m<module>\u001b[0;34m()\u001b[0m\n\u001b[1;32m     19\u001b[0m \u001b[0;32mfrom\u001b[0m \u001b[0;34m.\u001b[0m\u001b[0msetup_utils\u001b[0m \u001b[0;32mimport\u001b[0m \u001b[0mroot_version_active\u001b[0m\u001b[0;34m,\u001b[0m \u001b[0mget_config\u001b[0m\u001b[0;34m\u001b[0m\u001b[0m\n\u001b[1;32m     20\u001b[0m \u001b[0;34m\u001b[0m\u001b[0m\n\u001b[0;32m---> 21\u001b[0;31m \u001b[0mROOT_VERSION\u001b[0m \u001b[0;34m=\u001b[0m \u001b[0mroot_version_active\u001b[0m\u001b[0;34m(\u001b[0m\u001b[0;34m)\u001b[0m\u001b[0;34m\u001b[0m\u001b[0m\n\u001b[0m\u001b[1;32m     22\u001b[0m \u001b[0mconfig\u001b[0m \u001b[0;34m=\u001b[0m \u001b[0mget_config\u001b[0m\u001b[0;34m(\u001b[0m\u001b[0;34m)\u001b[0m\u001b[0;34m\u001b[0m\u001b[0m\n\u001b[1;32m     23\u001b[0m \u001b[0;34m\u001b[0m\u001b[0m\n",
      "\u001b[0;32m/anaconda2/envs/pyth3env/lib/python3.6/site-packages/root_numpy/setup_utils.py\u001b[0m in \u001b[0;36mroot_version_active\u001b[0;34m()\u001b[0m\n\u001b[1;32m    109\u001b[0m \u001b[0;34m\u001b[0m\u001b[0m\n\u001b[1;32m    110\u001b[0m \u001b[0;32mdef\u001b[0m \u001b[0mroot_version_active\u001b[0m\u001b[0;34m(\u001b[0m\u001b[0;34m)\u001b[0m\u001b[0;34m:\u001b[0m\u001b[0;34m\u001b[0m\u001b[0m\n\u001b[0;32m--> 111\u001b[0;31m     \u001b[0;32mimport\u001b[0m \u001b[0mROOT\u001b[0m\u001b[0;34m\u001b[0m\u001b[0m\n\u001b[0m\u001b[1;32m    112\u001b[0m     \u001b[0;32mreturn\u001b[0m \u001b[0mROOTVersion\u001b[0m\u001b[0;34m(\u001b[0m\u001b[0mROOT\u001b[0m\u001b[0;34m.\u001b[0m\u001b[0mgROOT\u001b[0m\u001b[0;34m.\u001b[0m\u001b[0mGetVersionInt\u001b[0m\u001b[0;34m(\u001b[0m\u001b[0;34m)\u001b[0m\u001b[0;34m)\u001b[0m\u001b[0;34m\u001b[0m\u001b[0m\n\u001b[1;32m    113\u001b[0m \u001b[0;34m\u001b[0m\u001b[0m\n",
      "\u001b[0;32m/usr/local/lib/ROOT.py\u001b[0m in \u001b[0;36m<module>\u001b[0;34m()\u001b[0m\n\u001b[1;32m     22\u001b[0m \u001b[0;31m### system and interpreter setup ------------------------------------------------\u001b[0m\u001b[0;34m\u001b[0m\u001b[0;34m\u001b[0m\u001b[0m\n\u001b[1;32m     23\u001b[0m \u001b[0;32mimport\u001b[0m \u001b[0mos\u001b[0m\u001b[0;34m,\u001b[0m \u001b[0msys\u001b[0m\u001b[0;34m,\u001b[0m \u001b[0mtypes\u001b[0m\u001b[0;34m\u001b[0m\u001b[0m\n\u001b[0;32m---> 24\u001b[0;31m \u001b[0;32mimport\u001b[0m \u001b[0mcppyy\u001b[0m\u001b[0;34m\u001b[0m\u001b[0m\n\u001b[0m\u001b[1;32m     25\u001b[0m \u001b[0;34m\u001b[0m\u001b[0m\n\u001b[1;32m     26\u001b[0m \u001b[0;34m\u001b[0m\u001b[0m\n",
      "\u001b[0;32m/usr/local/lib/cppyy.py\u001b[0m in \u001b[0;36m<module>\u001b[0;34m()\u001b[0m\n\u001b[1;32m     59\u001b[0m       \u001b[0msys\u001b[0m\u001b[0;34m.\u001b[0m\u001b[0msetdlopenflags\u001b[0m\u001b[0;34m(\u001b[0m \u001b[0;36m0x100\u001b[0m \u001b[0;34m|\u001b[0m \u001b[0;36m0x2\u001b[0m \u001b[0;34m)\u001b[0m    \u001b[0;31m# RTLD_GLOBAL | RTLD_NOW\u001b[0m\u001b[0;34m\u001b[0m\u001b[0m\n\u001b[1;32m     60\u001b[0m \u001b[0;34m\u001b[0m\u001b[0m\n\u001b[0;32m---> 61\u001b[0;31m    \u001b[0;32mimport\u001b[0m \u001b[0mlibPyROOT\u001b[0m \u001b[0;32mas\u001b[0m \u001b[0m_backend\u001b[0m\u001b[0;34m\u001b[0m\u001b[0m\n\u001b[0m\u001b[1;32m     62\u001b[0m \u001b[0;34m\u001b[0m\u001b[0m\n\u001b[1;32m     63\u001b[0m    \u001b[0;31m# reset dl flags if needed\u001b[0m\u001b[0;34m\u001b[0m\u001b[0;34m\u001b[0m\u001b[0m\n",
      "\u001b[0;31mImportError\u001b[0m: dynamic module does not define module export function (PyInit_libPyROOT)"
     ]
    }
   ],
   "source": [
    "from root_numpy import root"
   ]
  },
  {
   "cell_type": "code",
   "execution_count": null,
   "metadata": {},
   "outputs": [],
   "source": []
  }
 ],
 "metadata": {
  "kernelspec": {
   "display_name": "Python 3",
   "language": "python",
   "name": "python3"
  },
  "language_info": {
   "codemirror_mode": {
    "name": "ipython",
    "version": 3
   },
   "file_extension": ".py",
   "mimetype": "text/x-python",
   "name": "python",
   "nbconvert_exporter": "python",
   "pygments_lexer": "ipython3",
   "version": "3.6.1"
  }
 },
 "nbformat": 4,
 "nbformat_minor": 2
}
